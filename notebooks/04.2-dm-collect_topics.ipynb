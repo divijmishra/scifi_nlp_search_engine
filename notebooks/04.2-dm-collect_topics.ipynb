{
 "cells": [
  {
   "cell_type": "code",
   "execution_count": 25,
   "metadata": {},
   "outputs": [],
   "source": [
    "from bertopic import BERTopic\n",
    "import pandas as pd\n",
    "import json\n",
    "import os"
   ]
  },
  {
   "cell_type": "code",
   "execution_count": 26,
   "metadata": {},
   "outputs": [],
   "source": [
    "# We have 2 tasks in this code:\n",
    "# 1) Gather topic_ids in a dict, with each topic_id's value being another dict.\n",
    "#     The inner dict contains that topic_id's score in each book.\n",
    "# 2) Make a dict of all words used in these topics, with the values being their topic_id."
   ]
  },
  {
   "cell_type": "code",
   "execution_count": 27,
   "metadata": {},
   "outputs": [],
   "source": [
    "load_path = \"../data/interim/topics/\"\n",
    "save_path = \"../data/final/\""
   ]
  },
  {
   "cell_type": "code",
   "execution_count": 28,
   "metadata": {},
   "outputs": [],
   "source": [
    "# get BERTopic model info\n",
    "model = BERTopic.load(\"MaartenGr/BERTopic_Wikipedia\")\n",
    "df_fulltopic = model.get_topic_info()\n",
    "df = df_fulltopic[[\"Topic\", \"Representation\"]]\n",
    "df = df.drop([0])  # remove topic -1"
   ]
  },
  {
   "cell_type": "code",
   "execution_count": 29,
   "metadata": {},
   "outputs": [],
   "source": [
    "# for i in df.index:\n",
    "#     if 'cast' in df[\"Representation\"][i]:\n",
    "#         print(df[\"Topic\"][i])\n",
    "#         print(df[\"Representation\"][i])\n",
    "\n",
    "# # df[\"Representation\"][2][:5]"
   ]
  },
  {
   "cell_type": "code",
   "execution_count": 30,
   "metadata": {},
   "outputs": [],
   "source": [
    "full_vocab_dict = {}\n",
    "full_vocab_dict_reversed = {}\n",
    "\n",
    "for i in df.index:\n",
    "    topic_id, words = df[\"Topic\"][i], tuple(df[\"Representation\"][i])\n",
    "    full_vocab_dict[topic_id] = words\n",
    "\n",
    "for k, v in full_vocab_dict.items():\n",
    "    full_vocab_dict_reversed[v] = k"
   ]
  },
  {
   "cell_type": "code",
   "execution_count": 31,
   "metadata": {},
   "outputs": [],
   "source": [
    "# Task 1"
   ]
  },
  {
   "cell_type": "code",
   "execution_count": 32,
   "metadata": {},
   "outputs": [],
   "source": [
    "ids = []\n",
    "for f in os.listdir(load_path):\n",
    "    if f.endswith(\".csv\"):\n",
    "        ids.append(f[:3])\n",
    "ids.sort()\n",
    "\n",
    "topic_dict = {}\n",
    "\n",
    "for id in ids:\n",
    "    f = id + \".csv\"\n",
    "    df_book = pd.read_csv(load_path + f)\n",
    "\n",
    "    # normalize probabilities\n",
    "    tot = sum(df_book[\"prob\"])\n",
    "    df_book[\"prob\"] /= tot\n",
    "\n",
    "    try:\n",
    "        for i in df_book.index:\n",
    "            p, words = df_book[\"prob\"][i], tuple(eval(df_book[\"words\"][i])[0])\n",
    "            topic_id = full_vocab_dict_reversed[words]\n",
    "\n",
    "            topic_dict.setdefault(str(topic_id), {})[id] = p\n",
    "\n",
    "    except:\n",
    "        # super weird, one topic is present in book topics\n",
    "        # but I can't find it in BERTopic_wikipedia's topic info\n",
    "        # even though that's the model that was used to generate\n",
    "        # the book topics. no clue why.\n",
    "        pass\n",
    "        # print(words)\n",
    "        # print(id)"
   ]
  },
  {
   "cell_type": "code",
   "execution_count": 33,
   "metadata": {},
   "outputs": [],
   "source": [
    "# write topics dict\n",
    "out_file = save_path + \"topics.json\"\n",
    "with open(out_file, \"w\") as file:\n",
    "    json.dump(topic_dict, file)"
   ]
  },
  {
   "cell_type": "code",
   "execution_count": 34,
   "metadata": {},
   "outputs": [],
   "source": [
    "# Task 2"
   ]
  },
  {
   "cell_type": "code",
   "execution_count": 35,
   "metadata": {},
   "outputs": [],
   "source": [
    "vocab = {}\n",
    "\n",
    "for topic_id in topic_dict:\n",
    "    words = full_vocab_dict[int(topic_id)]\n",
    "    for word in words:\n",
    "        vocab.setdefault(word, []).append(topic_id)"
   ]
  },
  {
   "cell_type": "code",
   "execution_count": 36,
   "metadata": {},
   "outputs": [],
   "source": [
    "# write vocab mapping file\n",
    "out_file = save_path + \"vocab.json\"\n",
    "with open(out_file, \"w\") as file:\n",
    "    json.dump(vocab, file)"
   ]
  }
 ],
 "metadata": {
  "kernelspec": {
   "display_name": "scifi-nlp",
   "language": "python",
   "name": "python3"
  },
  "language_info": {
   "codemirror_mode": {
    "name": "ipython",
    "version": 3
   },
   "file_extension": ".py",
   "mimetype": "text/x-python",
   "name": "python",
   "nbconvert_exporter": "python",
   "pygments_lexer": "ipython3",
   "version": "3.11.5"
  }
 },
 "nbformat": 4,
 "nbformat_minor": 2
}
