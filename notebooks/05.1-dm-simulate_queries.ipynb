{
 "cells": [
  {
   "cell_type": "code",
   "execution_count": 27,
   "metadata": {},
   "outputs": [],
   "source": [
    "import pandas\n",
    "import json\n",
    "import os"
   ]
  },
  {
   "cell_type": "code",
   "execution_count": 28,
   "metadata": {},
   "outputs": [],
   "source": [
    "load_path = \"../data/final/\"\n",
    "\n",
    "with open(load_path + \"emotions.txt\") as f:\n",
    "    emotions = json.load(f)\n",
    "with open(load_path + \"topics.txt\") as f:\n",
    "    topics = json.load(f)\n",
    "with open(load_path + \"vocab.txt\") as f:\n",
    "    vocab = json.load(f)"
   ]
  },
  {
   "cell_type": "code",
   "execution_count": 29,
   "metadata": {},
   "outputs": [],
   "source": [
    "# query 1: given an emotion,\n",
    "# return books sorted in descending order wrt that emotion\n",
    "\n",
    "emotion = \"joy\"\n",
    "\n",
    "emotion_dict = emotions[emotion]\n",
    "emotion_list = [[k, v] for k, v in emotion_dict.items()]\n",
    "emotion_list.sort(key=lambda x: x[1], reverse=True)\n",
    "\n",
    "# emotion_list"
   ]
  },
  {
   "cell_type": "code",
   "execution_count": 30,
   "metadata": {},
   "outputs": [],
   "source": [
    "# query 2: given a topic word,\n",
    "# return books sorted in descending order wrt that word's score\n",
    "# case 1: when the word only belongs to one topic\n",
    "\n",
    "word = \"tesseract\"\n",
    "\n",
    "relevant_topics = vocab[word]\n",
    "\n",
    "word_scores_dict_list = [topics[topic] for topic in relevant_topics]\n",
    "word_score_dict = {}\n",
    "for d in word_scores_dict_list:\n",
    "    for k in d:\n",
    "        word_score_dict[k] = word_score_dict.get(k, 0) + d[k]\n",
    "\n",
    "word_score_list = [[k, v] for k, v in word_score_dict.items()]\n",
    "word_score_list.sort(key=lambda x: x[1], reverse=True)\n",
    "\n",
    "# word_score_list"
   ]
  },
  {
   "cell_type": "code",
   "execution_count": 31,
   "metadata": {},
   "outputs": [],
   "source": [
    "# query 2: given a topic word,\n",
    "# return books sorted in descending order wrt that word's score\n",
    "# case 2: when the word belongs to multiple topics\n",
    "\n",
    "word = \"alien\"\n",
    "\n",
    "relevant_topics = vocab[word]\n",
    "\n",
    "word_scores_dict_list = [topics[topic] for topic in relevant_topics]\n",
    "word_score_dict = {}\n",
    "for d in word_scores_dict_list:\n",
    "    for k in d:\n",
    "        word_score_dict[k] = word_score_dict.get(k, 0) + d[k]\n",
    "\n",
    "word_score_list = [[k, v] for k, v in word_score_dict.items()]\n",
    "word_score_list.sort(key=lambda x: x[1], reverse=True)\n",
    "\n",
    "# word_score_list"
   ]
  },
  {
   "cell_type": "code",
   "execution_count": 34,
   "metadata": {},
   "outputs": [],
   "source": [
    "# query 3: given an emotion and the topic word,\n",
    "# return books sorted in descending order wrt \n",
    "# the product of the emotion and topic word's scores\n",
    "\n",
    "emotion = \"joy\"\n",
    "word = \"alien\"\n",
    "\n",
    "# emotions\n",
    "emotions_dict = emotions[emotion]\n",
    "\n",
    "# topic word\n",
    "relevant_topics = vocab[word]\n",
    "\n",
    "word_scores_dict_list = [topics[topic] for topic in relevant_topics]\n",
    "word_score_dict = {}\n",
    "for d in word_scores_dict_list:\n",
    "    for k in d:\n",
    "        word_score_dict[k] = word_score_dict.get(k, 0) + d[k]\n",
    "\n",
    "# product of the two\n",
    "product_dict = {}\n",
    "for id in word_score_dict:\n",
    "    product_dict[id] = word_score_dict[id] * emotions_dict[id]\n",
    "\n",
    "product_list = [[k, v] for k, v in product_dict.items()]\n",
    "product_list.sort(key=lambda x : x[1], reverse=True)\n",
    "\n",
    "# product_list"
   ]
  },
  {
   "cell_type": "code",
   "execution_count": null,
   "metadata": {},
   "outputs": [],
   "source": []
  }
 ],
 "metadata": {
  "kernelspec": {
   "display_name": "scifi-nlp",
   "language": "python",
   "name": "python3"
  },
  "language_info": {
   "codemirror_mode": {
    "name": "ipython",
    "version": 3
   },
   "file_extension": ".py",
   "mimetype": "text/x-python",
   "name": "python",
   "nbconvert_exporter": "python",
   "pygments_lexer": "ipython3",
   "version": "3.11.5"
  }
 },
 "nbformat": 4,
 "nbformat_minor": 2
}
