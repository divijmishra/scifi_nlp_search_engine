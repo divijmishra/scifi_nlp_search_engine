{
 "cells": [
  {
   "cell_type": "code",
   "execution_count": 4,
   "metadata": {},
   "outputs": [],
   "source": [
    "import pandas as pd\n",
    "import json\n",
    "import os"
   ]
  },
  {
   "cell_type": "code",
   "execution_count": 2,
   "metadata": {},
   "outputs": [],
   "source": [
    "load_path_metadata = \"../data/raw/SFGram-dataset-master/books/\"\n",
    "load_path_interim = \"../data/interim/\"\n",
    "save_path = \"../data/final/\""
   ]
  },
  {
   "cell_type": "code",
   "execution_count": 6,
   "metadata": {},
   "outputs": [],
   "source": [
    "books = {}\n",
    "\n",
    "ids = []\n",
    "for f in os.listdir(load_path_interim + \"emotions/\"):\n",
    "    ids.append(f[:3])\n",
    "ids.sort()\n",
    "\n",
    "for id in ids:\n",
    "    # load book metadata\n",
    "    f_book = \"books00\" + id + \".json\"\n",
    "    with open(load_path_metadata + f_book) as file:\n",
    "        book = json.load(file)\n",
    "\n",
    "    # load book emotions\n",
    "    f_ems = \"emotions/\" + id + \".txt\"\n",
    "    with open(load_path_interim + f_ems) as file:\n",
    "        ems = json.load(file)\n",
    "    book[\"emotion_scores\"] = ems\n",
    "\n",
    "    # load book topics\n",
    "    f_tops = \"topics/\" + id + \".csv\"\n",
    "    df_topics = pd.read_csv(load_path_interim + f_tops)\n",
    "    # normalize probabilities\n",
    "    tot = sum(df_topics[\"prob\"])\n",
    "    df_topics[\"prob\"] /= tot\n",
    "\n",
    "    # save updated metadata\n",
    "    books[id] = book\n",
    "\n",
    "out_file = save_path + \"books.json\"\n",
    "with open(out_file, \"w\") as file:\n",
    "    json.dump(books, file)"
   ]
  },
  {
   "cell_type": "code",
   "execution_count": null,
   "metadata": {},
   "outputs": [],
   "source": []
  }
 ],
 "metadata": {
  "kernelspec": {
   "display_name": "scifi-nlp",
   "language": "python",
   "name": "python3"
  },
  "language_info": {
   "codemirror_mode": {
    "name": "ipython",
    "version": 3
   },
   "file_extension": ".py",
   "mimetype": "text/x-python",
   "name": "python",
   "nbconvert_exporter": "python",
   "pygments_lexer": "ipython3",
   "version": "3.11.5"
  }
 },
 "nbformat": 4,
 "nbformat_minor": 2
}
