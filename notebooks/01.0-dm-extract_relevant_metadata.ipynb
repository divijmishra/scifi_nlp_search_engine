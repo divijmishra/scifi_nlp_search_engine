{
 "cells": [
  {
   "cell_type": "code",
   "execution_count": 24,
   "metadata": {},
   "outputs": [],
   "source": [
    "import pandas as pd\n",
    "import json\n",
    "import os"
   ]
  },
  {
   "cell_type": "code",
   "execution_count": 30,
   "metadata": {},
   "outputs": [],
   "source": [
    "# load books metadata\n",
    "load_path = \"../data/raw/SFGram-dataset-master/books/\"\n",
    "\n",
    "books = []\n",
    "\n",
    "for f in os.listdir(load_path):\n",
    "    if f.endswith(\"json\"):\n",
    "        with open(load_path + f) as file:\n",
    "            book_data = json.load(file)\n",
    "\n",
    "        # filter out magazines\n",
    "        if not (\n",
    "            book_data[\"title\"].startswith(\"Galaxy\")\n",
    "            or book_data[\"title\"].startswith(\"IF\")\n",
    "        ):\n",
    "            # check if the fulltext actually exists in the data\n",
    "            id = f[7:10]  # only need 4 digits because << 10k books\n",
    "            book_fulltext_path = \"../data/raw/SFGram-dataset-master/book-contents/\"\n",
    "            book_fulltext_path += f\"book00{id}.txt\"\n",
    "            if os.path.isfile(book_fulltext_path):\n",
    "                \n",
    "                book = {\n",
    "                    \"id\": id,  \n",
    "                    \"title\": book_data[\"title\"],\n",
    "                    \"author\": book_data[\"author_name\"],\n",
    "                    \"year\": book_data[\"year\"],\n",
    "                }\n",
    "\n",
    "                books.append(book)"
   ]
  },
  {
   "cell_type": "code",
   "execution_count": 27,
   "metadata": {},
   "outputs": [
    {
     "data": {
      "text/plain": [
       "[]"
      ]
     },
     "execution_count": 27,
     "metadata": {},
     "output_type": "execute_result"
    }
   ],
   "source": [
    "books"
   ]
  },
  {
   "cell_type": "code",
   "execution_count": 31,
   "metadata": {},
   "outputs": [
    {
     "data": {
      "text/html": [
       "<div>\n",
       "<style scoped>\n",
       "    .dataframe tbody tr th:only-of-type {\n",
       "        vertical-align: middle;\n",
       "    }\n",
       "\n",
       "    .dataframe tbody tr th {\n",
       "        vertical-align: top;\n",
       "    }\n",
       "\n",
       "    .dataframe thead th {\n",
       "        text-align: right;\n",
       "    }\n",
       "</style>\n",
       "<table border=\"1\" class=\"dataframe\">\n",
       "  <thead>\n",
       "    <tr style=\"text-align: right;\">\n",
       "      <th></th>\n",
       "      <th>id</th>\n",
       "      <th>title</th>\n",
       "      <th>author</th>\n",
       "      <th>year</th>\n",
       "    </tr>\n",
       "  </thead>\n",
       "  <tbody>\n",
       "    <tr>\n",
       "      <th>132</th>\n",
       "      <td>001</td>\n",
       "      <td>The Time Machine</td>\n",
       "      <td>H. G. Wells</td>\n",
       "      <td>1895</td>\n",
       "    </tr>\n",
       "    <tr>\n",
       "      <th>165</th>\n",
       "      <td>002</td>\n",
       "      <td>The War of the Worlds</td>\n",
       "      <td>H. G. Wells</td>\n",
       "      <td>1898</td>\n",
       "    </tr>\n",
       "    <tr>\n",
       "      <th>360</th>\n",
       "      <td>003</td>\n",
       "      <td>A Princess of Mars</td>\n",
       "      <td>Edgar Rice Burroughs</td>\n",
       "      <td>1912</td>\n",
       "    </tr>\n",
       "    <tr>\n",
       "      <th>633</th>\n",
       "      <td>004</td>\n",
       "      <td>Youth</td>\n",
       "      <td>Isaac Asimov</td>\n",
       "      <td>1952</td>\n",
       "    </tr>\n",
       "    <tr>\n",
       "      <th>610</th>\n",
       "      <td>005</td>\n",
       "      <td>2 B R 0 2 B</td>\n",
       "      <td>Kurt Vonnegut</td>\n",
       "      <td>1962</td>\n",
       "    </tr>\n",
       "    <tr>\n",
       "      <th>...</th>\n",
       "      <td>...</td>\n",
       "      <td>...</td>\n",
       "      <td>...</td>\n",
       "      <td>...</td>\n",
       "    </tr>\n",
       "    <tr>\n",
       "      <th>867</th>\n",
       "      <td>966</td>\n",
       "      <td>The Plague</td>\n",
       "      <td>Teddy Keller</td>\n",
       "      <td>1961</td>\n",
       "    </tr>\n",
       "    <tr>\n",
       "      <th>870</th>\n",
       "      <td>967</td>\n",
       "      <td>Second Sight</td>\n",
       "      <td>Alan E Nourse</td>\n",
       "      <td>1956</td>\n",
       "    </tr>\n",
       "    <tr>\n",
       "      <th>662</th>\n",
       "      <td>968</td>\n",
       "      <td>Zeritsky's Law</td>\n",
       "      <td>Ann Griffith</td>\n",
       "      <td>1951</td>\n",
       "    </tr>\n",
       "    <tr>\n",
       "      <th>560</th>\n",
       "      <td>969</td>\n",
       "      <td>Other Worlds</td>\n",
       "      <td>Garrett P Serviss</td>\n",
       "      <td>1901</td>\n",
       "    </tr>\n",
       "    <tr>\n",
       "      <th>534</th>\n",
       "      <td>970</td>\n",
       "      <td>License to Steal</td>\n",
       "      <td>Louis Newman</td>\n",
       "      <td>1959</td>\n",
       "    </tr>\n",
       "  </tbody>\n",
       "</table>\n",
       "<p>967 rows × 4 columns</p>\n",
       "</div>"
      ],
      "text/plain": [
       "      id                  title                author  year\n",
       "132  001       The Time Machine           H. G. Wells  1895\n",
       "165  002  The War of the Worlds           H. G. Wells  1898\n",
       "360  003     A Princess of Mars  Edgar Rice Burroughs  1912\n",
       "633  004                  Youth          Isaac Asimov  1952\n",
       "610  005            2 B R 0 2 B         Kurt Vonnegut  1962\n",
       "..   ...                    ...                   ...   ...\n",
       "867  966             The Plague          Teddy Keller  1961\n",
       "870  967           Second Sight         Alan E Nourse  1956\n",
       "662  968         Zeritsky's Law          Ann Griffith  1951\n",
       "560  969           Other Worlds     Garrett P Serviss  1901\n",
       "534  970       License to Steal          Louis Newman  1959\n",
       "\n",
       "[967 rows x 4 columns]"
      ]
     },
     "execution_count": 31,
     "metadata": {},
     "output_type": "execute_result"
    }
   ],
   "source": [
    "df = pd.DataFrame(books)\n",
    "df = df.sort_values(by=\"id\")\n",
    "# df.set_index('id', inplace=True)\n",
    "df"
   ]
  },
  {
   "cell_type": "code",
   "execution_count": 32,
   "metadata": {},
   "outputs": [],
   "source": [
    "save_path = \"../data/interim/books/books_metadata.txt\"\n",
    "df.to_csv(save_path, index=False)"
   ]
  }
 ],
 "metadata": {
  "kernelspec": {
   "display_name": "scifi-nlp",
   "language": "python",
   "name": "python3"
  },
  "language_info": {
   "codemirror_mode": {
    "name": "ipython",
    "version": 3
   },
   "file_extension": ".py",
   "mimetype": "text/x-python",
   "name": "python",
   "nbconvert_exporter": "python",
   "pygments_lexer": "ipython3",
   "version": "3.11.5"
  }
 },
 "nbformat": 4,
 "nbformat_minor": 2
}
