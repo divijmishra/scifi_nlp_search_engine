{
 "cells": [
  {
   "cell_type": "markdown",
   "metadata": {},
   "source": [
    "Some books weren't handled correctly by the emotion detector and/or the topic modeller. \\\n",
    "For simplicity, we'll use this file to remove those."
   ]
  },
  {
   "cell_type": "code",
   "execution_count": 1,
   "metadata": {},
   "outputs": [],
   "source": [
    "import os"
   ]
  },
  {
   "cell_type": "code",
   "execution_count": 2,
   "metadata": {},
   "outputs": [],
   "source": [
    "emotion_path = \"../data/interim/emotions/\"\n",
    "topic_path = \"../data/interim/topics/\"\n",
    "\n",
    "em_ids, top_ids = [], []\n",
    "\n",
    "for f in os.listdir(emotion_path):\n",
    "    if f.endswith(\"txt\"):\n",
    "        em_ids.append(f[:3])\n",
    "\n",
    "for f in os.listdir(topic_path):\n",
    "    if f.endswith(\"csv\"):\n",
    "        top_ids.append(f[:3])\n",
    "\n",
    "em_set, top_set = set(em_ids), set(top_ids)"
   ]
  },
  {
   "cell_type": "code",
   "execution_count": 3,
   "metadata": {},
   "outputs": [],
   "source": [
    "bad_em_ids = []\n",
    "for id in em_ids:\n",
    "    if id not in top_set:\n",
    "        bad_em_ids.append(id)\n",
    "\n",
    "bad_top_ids = []\n",
    "for id in top_ids:\n",
    "    if id not in em_set:\n",
    "        bad_top_ids.append(id)"
   ]
  },
  {
   "cell_type": "code",
   "execution_count": 4,
   "metadata": {},
   "outputs": [],
   "source": [
    "for id in bad_em_ids:\n",
    "    f = emotion_path + id + \".txt\"\n",
    "    if os.path.exists(f):\n",
    "        os.remove(f)"
   ]
  },
  {
   "cell_type": "code",
   "execution_count": 5,
   "metadata": {},
   "outputs": [],
   "source": [
    "for id in bad_top_ids:\n",
    "    f = topic_path + id + \".csv\"\n",
    "    if os.path.exists(f):\n",
    "        os.remove(f)"
   ]
  },
  {
   "cell_type": "code",
   "execution_count": 6,
   "metadata": {},
   "outputs": [
    {
     "data": {
      "text/plain": [
       "[]"
      ]
     },
     "execution_count": 6,
     "metadata": {},
     "output_type": "execute_result"
    }
   ],
   "source": [
    "bad_em_ids"
   ]
  },
  {
   "cell_type": "code",
   "execution_count": null,
   "metadata": {},
   "outputs": [],
   "source": []
  }
 ],
 "metadata": {
  "kernelspec": {
   "display_name": "scifi-nlp",
   "language": "python",
   "name": "python3"
  },
  "language_info": {
   "codemirror_mode": {
    "name": "ipython",
    "version": 3
   },
   "file_extension": ".py",
   "mimetype": "text/x-python",
   "name": "python",
   "nbconvert_exporter": "python",
   "pygments_lexer": "ipython3",
   "version": "3.11.5"
  }
 },
 "nbformat": 4,
 "nbformat_minor": 2
}
