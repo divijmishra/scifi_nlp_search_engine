{
 "cells": [
  {
   "cell_type": "code",
   "execution_count": 7,
   "metadata": {},
   "outputs": [],
   "source": [
    "import json\n",
    "import os"
   ]
  },
  {
   "cell_type": "code",
   "execution_count": 8,
   "metadata": {},
   "outputs": [],
   "source": [
    "load_path = \"../data/interim/emotions/\"\n",
    "save_path = \"../data/final/\"\n",
    "\n",
    "emotions = {\n",
    "    \"joy\": {},\n",
    "    \"love\": {},\n",
    "    \"anger\": {},\n",
    "    \"sadness\": {},\n",
    "    \"fear\": {},\n",
    "    \"surprise\": {},\n",
    "}"
   ]
  },
  {
   "cell_type": "code",
   "execution_count": 9,
   "metadata": {},
   "outputs": [],
   "source": [
    "ids = []\n",
    "for f in os.listdir(load_path):\n",
    "    ids.append(f[:3])\n",
    "ids.sort()\n",
    "\n",
    "for id in ids:\n",
    "    f = id + \".txt\"\n",
    "    with open(load_path + f) as file:\n",
    "        ems = json.load(file)\n",
    "\n",
    "    # normalize emotion scores\n",
    "    tot = sum([ems[em] for em in ems])\n",
    "    for em in ems:\n",
    "        ems[em] /= tot\n",
    "\n",
    "    # save them to the dict\n",
    "    for em in emotions:\n",
    "        emotions[em][id] = ems[em]"
   ]
  },
  {
   "cell_type": "code",
   "execution_count": 10,
   "metadata": {},
   "outputs": [],
   "source": [
    "# write emotion dict\n",
    "out_file = save_path + \"emotions.json\"\n",
    "with open(out_file, \"w\") as file:\n",
    "    json.dump(emotions, file)"
   ]
  },
  {
   "cell_type": "code",
   "execution_count": 11,
   "metadata": {},
   "outputs": [
    {
     "data": {
      "text/plain": [
       "{'joy': 0.4344669094524647,\n",
       " 'love': 0.07431074549124281,\n",
       " 'anger': 0.3785254165256186,\n",
       " 'sadness': 0.07096200851438716,\n",
       " 'fear': 0.03628806647043027,\n",
       " 'surprise': 0.00544685354585649}"
      ]
     },
     "execution_count": 11,
     "metadata": {},
     "output_type": "execute_result"
    }
   ],
   "source": [
    "ems"
   ]
  },
  {
   "cell_type": "code",
   "execution_count": 12,
   "metadata": {},
   "outputs": [
    {
     "data": {
      "text/plain": [
       "632"
      ]
     },
     "execution_count": 12,
     "metadata": {},
     "output_type": "execute_result"
    }
   ],
   "source": [
    "len(emotions[\"joy\"])"
   ]
  },
  {
   "cell_type": "code",
   "execution_count": null,
   "metadata": {},
   "outputs": [],
   "source": []
  }
 ],
 "metadata": {
  "kernelspec": {
   "display_name": "scifi-nlp",
   "language": "python",
   "name": "python3"
  },
  "language_info": {
   "codemirror_mode": {
    "name": "ipython",
    "version": 3
   },
   "file_extension": ".py",
   "mimetype": "text/x-python",
   "name": "python",
   "nbconvert_exporter": "python",
   "pygments_lexer": "ipython3",
   "version": "3.11.5"
  }
 },
 "nbformat": 4,
 "nbformat_minor": 2
}
